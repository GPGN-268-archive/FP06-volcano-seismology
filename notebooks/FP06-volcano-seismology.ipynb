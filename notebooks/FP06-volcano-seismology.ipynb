{
 "cells": [
  {
   "cell_type": "markdown",
   "id": "7721ba90-0bc7-4269-a397-5e6b25e40fc6",
   "metadata": {},
   "source": [
    "# FP06 Volcano Seismology\n",
    "Volcanic eruptions cause seismic activity, and we are looking to analyze the relationship between the eruptions and seismic activity through datasets from the Hawaii network, acquired from the IRIS web service through the ObsPy Python library."
   ]
  },
  {
   "cell_type": "code",
   "execution_count": null,
   "id": "4eaae5c4-943a-458e-98ed-51e47154f4fe",
   "metadata": {},
   "outputs": [],
   "source": []
  }
 ],
 "metadata": {
  "kernelspec": {
   "display_name": "Python 3 (ipykernel)",
   "language": "python",
   "name": "python3"
  },
  "language_info": {
   "codemirror_mode": {
    "name": "ipython",
    "version": 3
   },
   "file_extension": ".py",
   "mimetype": "text/x-python",
   "name": "python",
   "nbconvert_exporter": "python",
   "pygments_lexer": "ipython3",
   "version": "3.10.9"
  }
 },
 "nbformat": 4,
 "nbformat_minor": 5
}
