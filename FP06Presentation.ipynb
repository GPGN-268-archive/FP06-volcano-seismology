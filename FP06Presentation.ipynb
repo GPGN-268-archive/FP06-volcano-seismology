{
 "cells": [
  {
   "cell_type": "markdown",
   "id": "65e8ab78-a62f-43a8-89fe-13829aec57d5",
   "metadata": {
    "tags": []
   },
   "source": [
    "# Background information"
   ]
  },
  {
   "cell_type": "markdown",
   "id": "9c7af0d2-fb3e-4364-9235-1c6eb8020922",
   "metadata": {},
   "source": [
    "### Problem Statement\n",
    "Through analysis of volcanologically originating seismic data, are there discernible, significant, and common patterns of ground-movement present at the onset of volcanic eruptions? If so, how can systems be implemented to be able to detect these patterns and thus determine when an eruption has taken, or is about to take, place?"
   ]
  },
  {
   "cell_type": "markdown",
   "id": "da26e3e2-7451-4a9a-9079-ae7fde62fb92",
   "metadata": {},
   "source": [
    "Based on our problem statement, we chose to analyze the eruption of the Kilauea Volcano in 2018 at several seismic stations. Information for the eruption is shown below:"
   ]
  },
  {
   "cell_type": "markdown",
   "id": "871c624c-4ca6-4d94-84f2-666aff5f78fa",
   "metadata": {
    "tags": []
   },
   "source": [
    "<img src=\"Images/BackgroundInfographic.pdf\"/>"
   ]
  },
  {
   "cell_type": "markdown",
   "id": "c6590b6e-9488-4673-a4d2-2bb4ac8313bb",
   "metadata": {},
   "source": [
    "We chose to focus on 3 dates during the eruption for analysis: "
   ]
  },
  {
   "cell_type": "code",
   "execution_count": 10,
   "id": "967a5872-275c-4fe3-80b2-a0c744fb892e",
   "metadata": {
    "tags": []
   },
   "outputs": [],
   "source": [
    "# Finish this cell above with dates and how we analyzed those dates"
   ]
  },
  {
   "cell_type": "markdown",
   "id": "65776e71-5801-4641-9c95-817dce3ae573",
   "metadata": {
    "tags": []
   },
   "source": [
    "<img src=\"Map/HawaiiMap.png\"/>"
   ]
  },
  {
   "cell_type": "markdown",
   "id": "9b7c5396-c154-45ee-b4fd-4f4740180752",
   "metadata": {
    "tags": []
   },
   "source": [
    "The map above shows the three seismic stations we studied data from and the location of the Kilauea Volcano."
   ]
  },
  {
   "cell_type": "code",
   "execution_count": 11,
   "id": "8a4624d3-6c34-45f2-af0f-7ce37a901549",
   "metadata": {
    "tags": []
   },
   "outputs": [],
   "source": [
    "#Actual analysis and figures"
   ]
  },
  {
   "cell_type": "markdown",
   "id": "7bbce9e3-7426-4b10-b513-b716bbb0e927",
   "metadata": {},
   "source": [
    "## Final Thoughts\n",
    "\n",
    "* We originally wanted to find a specific answer to a very broad research question, but it became clear that we did not have the time or expertise to sift through the huge amount of data necessary to do so.\n",
    "* We narrowed down our scope to find patterns over the course of the eruption and at different stations on the island of Hawaii."
   ]
  },
  {
   "cell_type": "markdown",
   "id": "d677a05b-e1ea-4d69-89d8-c0e325041fb2",
   "metadata": {
    "tags": []
   },
   "source": [
    "Sources: https://volcanoes.usgs.gov/vsc/file_mngr/file-224/OVERVIEW_Kil2018_LERZ-Summit_June%202019.pdf\n",
    "\n",
    "(Just a working cell I will cite this pdf later)"
   ]
  },
  {
   "cell_type": "code",
   "execution_count": null,
   "id": "a43b717c-b727-4878-aafe-4b2839af45e6",
   "metadata": {},
   "outputs": [],
   "source": []
  }
 ],
 "metadata": {
  "kernelspec": {
   "display_name": "Python 3 (ipykernel)",
   "language": "python",
   "name": "python3"
  },
  "language_info": {
   "codemirror_mode": {
    "name": "ipython",
    "version": 3
   },
   "file_extension": ".py",
   "mimetype": "text/x-python",
   "name": "python",
   "nbconvert_exporter": "python",
   "pygments_lexer": "ipython3",
   "version": "3.10.9"
  }
 },
 "nbformat": 4,
 "nbformat_minor": 5
}
